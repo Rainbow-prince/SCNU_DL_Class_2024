{
 "cells": [
  {
   "metadata": {},
   "cell_type": "markdown",
   "source": "# Q1",
   "id": "1ed7c3aef8b2e7c3"
  },
  {
   "cell_type": "code",
   "id": "initial_id",
   "metadata": {
    "collapsed": true,
    "ExecuteTime": {
     "end_time": "2024-11-06T02:54:16.486368Z",
     "start_time": "2024-11-06T02:54:16.479466Z"
    }
   },
   "source": [
    "import cv2\n",
    "import torch\n",
    "import torch.nn.functional as F\n",
    "import numpy as np"
   ],
   "outputs": [],
   "execution_count": 8
  },
  {
   "metadata": {
    "ExecuteTime": {
     "end_time": "2024-11-06T02:54:16.597766Z",
     "start_time": "2024-11-06T02:54:16.583410Z"
    }
   },
   "cell_type": "code",
   "source": [
    "A = torch.ones(3,3) * 16\n",
    "A = A.view(1, 1, 3, 3)\n",
    "a = torch.tensor([1/2, 1/4, 1/2]).view(1, 1, 3, 1)\n",
    "b = torch.tensor([1/2, 1/4, 1/2]).view(1, 1, 1, 3)\n",
    "ab = a*b"
   ],
   "id": "729ae51fa46c396f",
   "outputs": [],
   "execution_count": 9
  },
  {
   "metadata": {
    "ExecuteTime": {
     "end_time": "2024-11-06T02:54:16.643835Z",
     "start_time": "2024-11-06T02:54:16.629754Z"
    }
   },
   "cell_type": "code",
   "source": [
    "print(A)\n",
    "print(a)\n",
    "print(b)\n",
    "print(ab)"
   ],
   "id": "7a06bcee667cc0f0",
   "outputs": [
    {
     "name": "stdout",
     "output_type": "stream",
     "text": [
      "tensor([[[[16., 16., 16.],\n",
      "          [16., 16., 16.],\n",
      "          [16., 16., 16.]]]])\n",
      "tensor([[[[0.5000],\n",
      "          [0.2500],\n",
      "          [0.5000]]]])\n",
      "tensor([[[[0.5000, 0.2500, 0.5000]]]])\n",
      "tensor([[[[0.2500, 0.1250, 0.2500],\n",
      "          [0.1250, 0.0625, 0.1250],\n",
      "          [0.2500, 0.1250, 0.2500]]]])\n"
     ]
    }
   ],
   "execution_count": 10
  },
  {
   "metadata": {},
   "cell_type": "markdown",
   "source": "## 关于view为什么要这样",
   "id": "b22aed21b0e02590"
  },
  {
   "metadata": {},
   "cell_type": "markdown",
   "source": [
    "\n",
    "\n",
    "\n",
    "### 卷积核的view\n",
    "```python\n",
    "a = torch.tensor([1/2, 1/4, 1/2]).view(1, 1, 3, 1)\n",
    "```\n",
    "\n",
    "- (1, 1, 3, 1)代表什么？\n",
    "    - 1 个输出通道\n",
    "    - 1 个输入通道\n",
    "    - 3x1 的卷积核\n",
    "\n",
    "即使这个长相的卷积核，就必然只有 1 个输出通道，但是还是需要规定输出通道，更合理的原因，以后再补充"
   ],
   "id": "7ad9d7f19b0503de"
  },
  {
   "metadata": {},
   "cell_type": "markdown",
   "source": [
    "### A的view\n",
    "A的view和a、b的view，虽然都是4维，但是含义存在不同。\n",
    "\n",
    "在 PyTorch 中，F.conv2d 函数期望输入 A 是一个四维张量， **其形状为 (N, C, H, W)** ，分别代表：\n",
    "\n",
    "- N：批次大小（Batch size），即一次前向传播中处理的数据样本数量。\n",
    "- C：通道数（Channel），即输入数据的通道数量。\n",
    "- H：高度（Height），即输入数据的高度。\n",
    "- W：宽度（Width），即输入数据的宽度。"
   ],
   "id": "9b61c5618c752ca5"
  },
  {
   "metadata": {
    "ExecuteTime": {
     "end_time": "2024-11-06T02:54:16.767025Z",
     "start_time": "2024-11-06T02:54:16.749019Z"
    }
   },
   "cell_type": "code",
   "source": [
    "Aa = F.conv2d(A, a, padding=1)\n",
    "Ab = F.conv2d(A, b, padding=1)\n",
    "\n",
    "# 总的结果\n",
    "Aa_b = F.conv2d(Aa, b)  # 先用a向量进行卷积，再用b\n",
    "Ab_a = F.conv2d(Ab, a)  # 先用b向量进行卷积，再用a\n",
    "A_ab = F.conv2d(A, ab, padding=1)  # \n",
    "\n",
    "Aa_b==A_ab\n",
    "A_ab==Ab_a"
   ],
   "id": "95c93a5f7dabf564",
   "outputs": [
    {
     "data": {
      "text/plain": [
       "tensor([[[[True, True, True],\n",
       "          [True, True, True],\n",
       "          [True, True, True]]]])"
      ]
     },
     "execution_count": 11,
     "metadata": {},
     "output_type": "execute_result"
    }
   ],
   "execution_count": 11
  },
  {
   "metadata": {
    "ExecuteTime": {
     "end_time": "2024-11-06T02:54:16.875234Z",
     "start_time": "2024-11-06T02:54:16.859227Z"
    }
   },
   "cell_type": "code",
   "source": "Aa",
   "id": "fd9e07048e34ff40",
   "outputs": [
    {
     "data": {
      "text/plain": [
       "tensor([[[[ 0., 12., 12., 12.,  0.],\n",
       "          [ 0., 20., 20., 20.,  0.],\n",
       "          [ 0., 12., 12., 12.,  0.]]]])"
      ]
     },
     "execution_count": 12,
     "metadata": {},
     "output_type": "execute_result"
    }
   ],
   "execution_count": 12
  },
  {
   "metadata": {
    "ExecuteTime": {
     "end_time": "2024-11-06T02:57:29.198407Z",
     "start_time": "2024-11-06T02:57:29.178379Z"
    }
   },
   "cell_type": "code",
   "source": [
    "a = torch.tensor([0, 0, 1.25]).view(1, 1, 3, 1)\n",
    "Aa = F.conv2d(A, a, padding=1)\n",
    "Aa"
   ],
   "id": "47cd5492f0f34fbc",
   "outputs": [
    {
     "data": {
      "text/plain": [
       "tensor([[[[ 0., 20., 20., 20.,  0.],\n",
       "          [ 0., 20., 20., 20.,  0.],\n",
       "          [ 0.,  0.,  0.,  0.,  0.]]]])"
      ]
     },
     "execution_count": 23,
     "metadata": {},
     "output_type": "execute_result"
    }
   ],
   "execution_count": 23
  },
  {
   "metadata": {
    "ExecuteTime": {
     "end_time": "2024-11-06T02:54:16.935304Z",
     "start_time": "2024-11-06T02:54:16.918227Z"
    }
   },
   "cell_type": "code",
   "source": "Aa_b",
   "id": "3b81dabf826cffd0",
   "outputs": [
    {
     "data": {
      "text/plain": [
       "tensor([[[[ 9., 15.,  9.],\n",
       "          [15., 25., 15.],\n",
       "          [ 9., 15.,  9.]]]])"
      ]
     },
     "execution_count": 13,
     "metadata": {},
     "output_type": "execute_result"
    }
   ],
   "execution_count": 13
  },
  {
   "metadata": {},
   "cell_type": "markdown",
   "source": "## 算法复杂度",
   "id": "90230d8fcb37bd26"
  }
 ],
 "metadata": {
  "kernelspec": {
   "display_name": "Python 3",
   "language": "python",
   "name": "python3"
  },
  "language_info": {
   "codemirror_mode": {
    "name": "ipython",
    "version": 2
   },
   "file_extension": ".py",
   "mimetype": "text/x-python",
   "name": "python",
   "nbconvert_exporter": "python",
   "pygments_lexer": "ipython2",
   "version": "2.7.6"
  }
 },
 "nbformat": 4,
 "nbformat_minor": 5
}
