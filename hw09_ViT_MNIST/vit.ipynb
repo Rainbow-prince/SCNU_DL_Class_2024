{
 "cells": [
  {
   "cell_type": "markdown",
   "metadata": {},
   "source": [
    "# ViT"
   ]
  },
  {
   "cell_type": "markdown",
   "metadata": {},
   "source": [
    "paper [An Image is Worth 16x16 Words: Transformers for Image Recognition at Scale](https://arxiv.org/pdf/2010.11929.pdf)"
   ]
  },
  {
   "cell_type": "markdown",
   "metadata": {},
   "source": [
    "#### pip install einops and pytorch-gpu "
   ]
  },
  {
   "cell_type": "code",
   "execution_count": null,
   "metadata": {},
   "outputs": [],
   "source": [
    "import numpy as np\n",
    "import math\n",
    "import einops\n",
    "import copy\n",
    "import random\n",
    "import torch\n",
    "import torch.nn as nn\n",
    "import torch.nn.functional as F\n",
    "import torchvision\n",
    "import matplotlib.pyplot as plt\n",
    "import matplotlib.colors as colors\n",
    "from matplotlib.animation import FuncAnimation\n",
    "%matplotlib inline\n",
    "\n",
    "device = 'cuda' if torch.cuda.is_available() else 'cpu'"
   ]
  },
  {
   "cell_type": "code",
   "execution_count": 2,
   "metadata": {},
   "outputs": [],
   "source": [
    "# pip install ipywidgets"
   ]
  },
  {
   "cell_type": "markdown",
   "metadata": {},
   "source": [
    "### Read ViT paper and anwser the following TODO questions\n",
    "### https://arxiv.org/pdf/2010.11929"
   ]
  },
  {
   "cell_type": "markdown",
   "metadata": {},
   "source": [
    "## Download data \n",
    "#### turn on download=True if you use Colab"
   ]
  },
  {
   "cell_type": "code",
   "execution_count": 3,
   "metadata": {},
   "outputs": [],
   "source": [
    "data = torch.utils.data.DataLoader(\n",
    "    torchvision.datasets.MNIST('./data', transform=torchvision.transforms.ToTensor(), download=False, train=True),\n",
    "    batch_size=128, shuffle=True)"
   ]
  },
  {
   "cell_type": "code",
   "execution_count": 4,
   "metadata": {},
   "outputs": [],
   "source": [
    "data_test = torch.utils.data.DataLoader(\n",
    "    torchvision.datasets.MNIST('./data', transform=torchvision.transforms.ToTensor(), download=False, train=False),\n",
    "    batch_size=128, shuffle=True)"
   ]
  },
  {
   "cell_type": "markdown",
   "metadata": {},
   "source": [
    "## helpers"
   ]
  },
  {
   "cell_type": "code",
   "execution_count": 5,
   "metadata": {},
   "outputs": [],
   "source": [
    "@torch.no_grad()\n",
    "def accuracy(model, label='test', silent=False):\n",
    "    model.eval()\n",
    "    dataset = data_test if label == 'test' else data\n",
    "    count = 0\n",
    "    correct = 0\n",
    "    for x, y in dataset:\n",
    "        x, y = x.to(device), y.to(device)\n",
    "        res = model(x).argmax(-1)\n",
    "        count += len(x)\n",
    "        correct += (res == y).float().sum()\n",
    "    acc = correct / count\n",
    "    if not silent: print(f'accuracy on {label:5}: {acc}')\n",
    "    return acc"
   ]
  },
  {
   "cell_type": "code",
   "execution_count": 6,
   "metadata": {},
   "outputs": [],
   "source": [
    "def plot(*args, n_col=None, figsize=None, block_size=3, labels=None):\n",
    "    '''Plot images in a grid\n",
    "    usage: plot(img1, img2, ...)\n",
    "    optional: n_col=3, figsize=(12, 8), block_size=1\n",
    "\n",
    "    img: torch.Tensor of shape (H, W) or (C, H, W) or [(H, W), ...] or [(C, H, W), ...]\n",
    "    '''\n",
    "    imgs = []\n",
    "    for img in args:\n",
    "        if isinstance(img, torch.Tensor):\n",
    "            if img.dim() == 4: imgs.extend([img[i] for i in range(img.shape[0])])\n",
    "            else: imgs.append(img)\n",
    "        if isinstance(img, list) or isinstance(img, tuple):\n",
    "            assert all(isinstance(i, torch.Tensor) and i.dim() == 3 for i in img)\n",
    "            imgs.extend(img)\n",
    "\n",
    "    # flatten channels\n",
    "    imgs = [img.squeeze(0) if img.dim() == 3 else img for img in imgs]\n",
    "    imgs = [img.detach().cpu() for img in imgs]\n",
    "\n",
    "    if n_col is None: n_col = len(imgs)\n",
    "    n_row = math.ceil(len(imgs) / n_col)\n",
    "    if figsize is None: figsize = (n_col * block_size, n_row * block_size)\n",
    "    # normalize ax to 2d array\n",
    "    fig, ax = plt.subplots(n_row, n_col, figsize=figsize)\n",
    "    if n_row == 1 and n_col == 1: ax = np.array([[ax]])\n",
    "    elif n_row == 1: ax = ax.reshape((1, -1))\n",
    "    elif n_col == 1: ax = ax.reshape((-1, 1))\n",
    "    # plot\n",
    "    for i, img in enumerate(imgs):\n",
    "        idx = (i // n_col, i % n_col)\n",
    "        ax[idx].imshow(img)\n",
    "        if labels and i < len(labels): ax[idx].set_title(labels[i])\n",
    "    # remove the axis\n",
    "    for i in range(n_row * n_col):\n",
    "        idx = (i // n_col, i % n_col)\n",
    "        ax[idx].set_xticks([])\n",
    "        ax[idx].set_yticks([])\n",
    "        if i >= len(imgs): ax[idx].axis('off')\n",
    "    plt.tight_layout()\n",
    "    plt.show()"
   ]
  },
  {
   "cell_type": "code",
   "execution_count": 7,
   "metadata": {},
   "outputs": [],
   "source": [
    "# test plot function\n",
    "def test_plot(scale=3):\n",
    "    imgs = next(iter(data))[0]\n",
    "    plot(imgs[0], block_size=scale)\n",
    "    plot(imgs[1], imgs[2], block_size=scale)\n",
    "    plot(imgs[3], imgs[4], n_col=scale, block_size=scale)\n",
    "    plot(imgs[5], imgs[6], imgs[7], n_col=2, block_size=scale)\n",
    "    plot(imgs[:5], n_col=3, block_size=scale)\n",
    "\n",
    "# test_plot()"
   ]
  },
  {
   "cell_type": "markdown",
   "metadata": {},
   "source": [
    "## chunk images"
   ]
  },
  {
   "cell_type": "code",
   "execution_count": 8,
   "metadata": {},
   "outputs": [
    {
     "data": {
      "image/png": "[encoded data removed]",
      "text/plain": [
       "<Figure size 300x300 with 1 Axes>"
      ]
     },
     "metadata": {},
     "output_type": "display_data"
    },
    {
     "name": "stdout",
     "output_type": "stream",
     "text": [
      "torch.Size([2, 1, 28, 28])\n"
     ]
    }
   ],
   "source": [
    "images = next(iter(data))[0][:2]\n",
    "plot(images[0])\n",
    "print(images.size())"
   ]
  },
  {
   "cell_type": "markdown",
   "metadata": {},
   "source": [
    "### Visualize the 4x4 image chunks "
   ]
  },
  {
   "cell_type": "code",
   "execution_count": 9,
   "metadata": {},
   "outputs": [
    {
     "data": {
      "image/png": "[encoded data removed]",
      "text/plain": [
       "<Figure size 300x300 with 1 Axes>"
      ]
     },
     "metadata": {},
     "output_type": "display_data"
    },
    {
     "name": "stdout",
     "output_type": "stream",
     "text": [
      "torch.Size([1, 28, 28])\n"
     ]
    }
   ],
   "source": [
    "b, c, h, w = images.shape\n",
    "# cut into tiles\n",
    "tile_size = 7\n",
    "plot(images[0])\n",
    "print(images[0].size())"
   ]
  },
  {
   "cell_type": "markdown",
   "metadata": {},
   "source": [
    "### Use einops to speed the chunking'\n",
    "### Explain TODO in comment"
   ]
  },
  {
   "cell_type": "code",
   "execution_count": 10,
   "metadata": {},
   "outputs": [
    {
     "data": {
      "image/png": "[encoded data removed]",
      "text/plain": [
       "<Figure size 400x400 with 16 Axes>"
      ]
     },
     "metadata": {},
     "output_type": "display_data"
    },
    {
     "name": "stdout",
     "output_type": "stream",
     "text": [
      "torch.Size([2, 16, 1, 7, 7])\n",
      "tensor([[0.0000, 0.0000, 0.0000, 0.0000, 0.0000, 0.0000, 0.0000],\n",
      "        [0.0000, 0.0000, 0.0000, 0.0000, 0.0000, 0.0000, 0.0000],\n",
      "        [0.0000, 0.0000, 0.0000, 0.0000, 0.0000, 0.0000, 0.0000],\n",
      "        [0.0000, 0.0000, 0.0000, 0.0000, 0.0000, 0.0000, 0.0000],\n",
      "        [0.0000, 0.0000, 0.0000, 0.0000, 0.0000, 0.0000, 0.0000],\n",
      "        [0.0000, 0.0000, 0.0000, 0.0000, 0.0000, 0.0000, 0.0000],\n",
      "        [0.0000, 0.0000, 0.0000, 0.0000, 0.0000, 0.0000, 0.1333]])\n",
      "tensor([[0.0000, 0.0000, 0.0000, 0.0000, 0.0000, 0.0000, 0.0000],\n",
      "        [0.0000, 0.0000, 0.0000, 0.0000, 0.0000, 0.0000, 0.0000],\n",
      "        [0.0000, 0.0000, 0.0000, 0.0000, 0.0000, 0.0000, 0.0000],\n",
      "        [0.0000, 0.0000, 0.0000, 0.0000, 0.0000, 0.0000, 0.0000],\n",
      "        [0.0000, 0.0000, 0.0000, 0.0000, 0.0000, 0.0000, 0.0000],\n",
      "        [0.0000, 0.0000, 0.0000, 0.0000, 0.0000, 0.0000, 0.0000],\n",
      "        [0.0000, 0.0000, 0.0000, 0.0000, 0.0000, 0.0000, 0.1333]])\n"
     ]
    }
   ],
   "source": [
    "# cut into tiles\n",
    "tile_size = 7\n",
    "tiles = einops.rearrange(images, 'b c (h t1) (w t2) -> b (h w) c t1 t2', t1=tile_size, t2=tile_size)\n",
    "plot(tiles[0], n_col=4, block_size=1)\n",
    "print(tiles.size())\n",
    "# the tiles have size (Batch, 16=4x4, channel=1, H=7, W=7), that is the tokens are sequential\n",
    "# explain why tiles[0, 5, ...] are equal to images[B=0,C=0,H=7:14,W=7:14]\n",
    "# hint: the tiles[0, 5] is 5-th token of first image in batch, which is the row=1,col=1 token of size 7x7\n",
    "# the image pixels are ?\n",
    "print(tiles[0,5,0,:])\n",
    "print(images[0,0,7:14,7:14])\n",
    "assert torch.allclose(tiles[0,5,0,:],images[0,0,7:14,7:14])"
   ]
  },
  {
   "cell_type": "markdown",
   "metadata": {},
   "source": [
    "## Encoder parameters\n",
    "### TODO: explain what is the value of context_size and its meaning"
   ]
  },
  {
   "cell_type": "code",
   "execution_count": 11,
   "metadata": {},
   "outputs": [],
   "source": [
    "N_HEADS = 2\n",
    "N_BLOCKS = 2\n",
    "VOCAB_SIZE = 10\n",
    "EMBED_SIZE = 16\n",
    "HIDDEN_SIZE = 32\n",
    "IMG_SIZE = 28\n",
    "CHANNEL = 1\n",
    "TILE_SIZE = 7\n",
    "assert IMG_SIZE % TILE_SIZE == 0\n",
    "CONTEXT_SIZE = 1 + (IMG_SIZE // TILE_SIZE) ** 2\n",
    "LEARNING_RATE = 3e-4\n",
    "DROPOUT = 0.1"
   ]
  },
  {
   "cell_type": "code",
   "execution_count": 12,
   "metadata": {},
   "outputs": [
    {
     "data": {
      "text/plain": [
       "17"
      ]
     },
     "execution_count": 12,
     "metadata": {},
     "output_type": "execute_result"
    }
   ],
   "source": [
    "CONTEXT_SIZE  # why add 1?"
   ]
  },
  {
   "cell_type": "markdown",
   "metadata": {},
   "source": [
    "### Sinuoid positional embedding\n",
    "### TODO: refer to Transformer paper and explain the function of the position encoding"
   ]
  },
  {
   "cell_type": "code",
   "execution_count": 13,
   "metadata": {},
   "outputs": [],
   "source": [
    "def get_sinusoidal_positional_encoding(context_size=CONTEXT_SIZE, embed_size=EMBED_SIZE):\n",
    "  position = torch.arange(context_size).unsqueeze(1)\n",
    "  div_term = torch.exp(torch.arange(0, embed_size, 2) * -(math.log(10000.0) / embed_size))\n",
    "  positional_encoding = torch.zeros(context_size, embed_size)\n",
    "  positional_encoding[:, 0::2] = torch.sin(position * div_term)\n",
    "  positional_encoding[:, 1::2] = torch.cos(position * div_term)\n",
    "  return positional_encoding.to(device)"
   ]
  },
  {
   "cell_type": "markdown",
   "metadata": {},
   "source": [
    "### TODO: Explain each step in MultiheadAttention forward function and associate with the QKV equation\n",
    "### TODO: Explain why self.qkv is one linear function instead of three\n",
    "### TODO: Explain why q,k,v transpose(1,2) and y transpose back"
   ]
  },
  {
   "cell_type": "code",
   "execution_count": 14,
   "metadata": {},
   "outputs": [],
   "source": [
    "class MultiheadAttention(nn.Module):\n",
    "  def __init__(self, n_heads, embed_size, dropout, n_block=0):\n",
    "    super().__init__()\n",
    "    assert embed_size % n_heads == 0, f'{embed_size=} should be divisible by {n_heads=}'\n",
    "    self.n_heads = n_heads\n",
    "    self.embed_size = embed_size\n",
    "    self.dropout_rate = dropout\n",
    "    self.n_block = n_block  # The No. of this MHA\n",
    "    self.qkv = nn.Linear(embed_size, embed_size * 3, bias=False) # generate Q, K, V all at once\n",
    "    self.dropout = nn.Dropout(dropout)\n",
    "    self.ln = nn.LayerNorm(embed_size)\n",
    "\n",
    "  def forward(self, x):\n",
    "    B, C, E = x.shape\n",
    "    # pre-layernorm\n",
    "    x = self.ln(x)\n",
    "    q, k, v = self.qkv(x).chunk(3, dim=-1)\n",
    "    # split heads\n",
    "    q = q.view(B, C, self.n_heads, self.embed_size // self.n_heads).transpose(1, 2)\n",
    "    k = k.view(B, C, self.n_heads, self.embed_size // self.n_heads).transpose(1, 2)\n",
    "    v = v.view(B, C, self.n_heads, self.embed_size // self.n_heads).transpose(1, 2)\n",
    "    # compute QKV\n",
    "    correlation = q @ k.transpose(-2, -1)\n",
    "    correlation = correlation / math.sqrt(k.shape[-1])\n",
    "    correlation = F.softmax(correlation, dim=-1)\n",
    "    correlation = F.dropout(correlation, p=self.dropout_rate, training=self.training)\n",
    "    y = correlation @ v\n",
    "    # combine heads\n",
    "    y = y.transpose(1, 2).contiguous().view(B, C, self.embed_size)\n",
    "    y = self.dropout(y)\n",
    "    return y\n",
    "\n",
    "  def forward_visualize(self, x):\n",
    "    B, C, E = x.shape\n",
    "    # pre-layernorm\n",
    "    x = self.ln(x)\n",
    "    q, k, v = self.qkv(x).chunk(3, dim=-1)\n",
    "    # split heads\n",
    "    q = q.view(B, C, self.n_heads, self.embed_size // self.n_heads).transpose(1, 2)\n",
    "    k = k.view(B, C, self.n_heads, self.embed_size // self.n_heads).transpose(1, 2)\n",
    "    v = v.view(B, C, self.n_heads, self.embed_size // self.n_heads).transpose(1, 2)\n",
    "    # by hand\n",
    "    correlation = q @ k.transpose(-2, -1)\n",
    "    correlation = correlation / math.sqrt(k.shape[-1])\n",
    "    correlation = F.softmax(correlation, dim=-1)\n",
    "    correlation = F.dropout(correlation, p=self.dropout_rate, training=self.training)\n",
    "    y = correlation @ v\n",
    "    # combine heads\n",
    "    y = y.transpose(1, 2).contiguous().view(B, C, self.embed_size)\n",
    "    y = self.dropout(y)\n",
    "    return y, correlation\n",
    "\n",
    "class Block(nn.Module):\n",
    "  def __init__(self, n_heads, embed_size, hidden_size, dropout, n_block):\n",
    "    super().__init__()\n",
    "    self.block = n_block\n",
    "    self.attention = MultiheadAttention(n_heads, embed_size, dropout=dropout, n_block=n_block)\n",
    "    self.ff = nn.Sequential(\n",
    "      nn.LayerNorm(embed_size), # pre-layernorm\n",
    "      nn.Linear(embed_size, hidden_size),\n",
    "      nn.ReLU(),\n",
    "      nn.Linear(hidden_size, embed_size),\n",
    "      nn.Dropout(dropout)\n",
    "    )\n",
    "\n",
    "  def forward(self, x):\n",
    "    x = x + self.attention(x)\n",
    "    x = x + self.ff(x)\n",
    "    return x\n",
    "  \n",
    "  def forward_visualize(self, x):\n",
    "    x1, cor = self.attention.forward_visualize(x)\n",
    "    x = x + x1\n",
    "    x = x + self.ff(x)\n",
    "    return x, cor\n",
    "  "
   ]
  },
  {
   "cell_type": "markdown",
   "metadata": {},
   "source": [
    "### TODO: explain what is the size and functionality of tile_embedding layer "
   ]
  },
  {
   "cell_type": "code",
   "execution_count": 15,
   "metadata": {},
   "outputs": [],
   "source": [
    "class Net(nn.Module):\n",
    "  def __init__(self, n_heads=N_HEADS, n_blocks=N_BLOCKS, embed_size=EMBED_SIZE, hidden_size=HIDDEN_SIZE, vocab_size=VOCAB_SIZE, context_size=CONTEXT_SIZE, dropout=DROPOUT, tile_size=TILE_SIZE):\n",
    "    super().__init__()\n",
    "    self.context_size = context_size\n",
    "    self.tile_size = tile_size\n",
    "    # net\n",
    "    self.positional_embedding = get_sinusoidal_positional_encoding()\n",
    "    self.tile_embedding = nn.Linear(TILE_SIZE * TILE_SIZE * CHANNEL, embed_size)\n",
    "    self.cls_token = nn.Parameter(torch.randn(1, 1, embed_size))\n",
    "    self.blocks = nn.Sequential(*[Block(n_heads, embed_size, hidden_size, dropout, i) for i in range(n_blocks)])\n",
    "    self.head = nn.Linear(embed_size, vocab_size)\n",
    "\n",
    "  def forward(self, x):\n",
    "    # (batch_size, channel, height, width)\n",
    "    # split into tiles/patches/chunks\n",
    "    x = einops.rearrange(x, 'b c (h t1) (w t2) -> b (h w) (c t1 t2)', t1=self.tile_size, t2=self.tile_size)\n",
    "    # embed\n",
    "    x = self.tile_embedding(x)\n",
    "    # add cls token\n",
    "    cls_token = self.cls_token.expand(x.shape[0], -1, -1)\n",
    "    x = torch.cat((cls_token, x), dim=1)\n",
    "    # positional encoding\n",
    "    x = x + self.positional_embedding\n",
    "    # attention and ff\n",
    "    x = self.blocks(x)\n",
    "    # head\n",
    "    x = self.head(x)\n",
    "    # only look at first token:\n",
    "    x = x[:, 0, :]\n",
    "    return x\n",
    "  \n",
    "  def forward_visualize(self, x):\n",
    "    # (batch_size, channel, height, width)\n",
    "    # split into tiles/patches/chunks\n",
    "    x = einops.rearrange(x, 'b c (h t1) (w t2) -> b (h w) (c t1 t2)', t1=self.tile_size, t2=self.tile_size)\n",
    "    # embed\n",
    "    x = self.tile_embedding(x)\n",
    "    # add cls token\n",
    "    cls_token = self.cls_token.expand(x.shape[0], -1, -1)\n",
    "    x = torch.cat((cls_token, x), dim=1)\n",
    "    # positional encoding\n",
    "    x = x + self.positional_embedding\n",
    "    all_corrs = []\n",
    "    for block in self.blocks:\n",
    "      x, corr = block.forward_visualize(x)\n",
    "      all_corrs.append(corr.detach())\n",
    "    \n",
    "    x = self.head(x)\n",
    "    # only look at first token:\n",
    "    x = x[:, 0, :]\n",
    "    return x, all_corrs\n",
    "    "
   ]
  },
  {
   "cell_type": "markdown",
   "metadata": {},
   "source": [
    "## Training stage"
   ]
  },
  {
   "cell_type": "markdown",
   "metadata": {},
   "source": [
    "### TODO: Draw outline of this ViT, including the exact number of blocks"
   ]
  },
  {
   "cell_type": "code",
   "execution_count": 16,
   "metadata": {},
   "outputs": [],
   "source": [
    "model = Net(n_heads=2, n_blocks=2).to(device)"
   ]
  },
  {
   "cell_type": "code",
   "execution_count": 17,
   "metadata": {},
   "outputs": [],
   "source": [
    "# resume training if you want\n",
    "# model.load_state_dict(torch.load('weights/vit_mnist_epoch20.pt'))"
   ]
  },
  {
   "cell_type": "markdown",
   "metadata": {},
   "source": [
    "### If you don't have a GPU, borrow one checkpoint file from your classmate, and skip the training steps\n",
    "### If you have a 4060 or better GPU, try running for 50 steps or more, and check the accuracy"
   ]
  },
  {
   "cell_type": "code",
   "execution_count": 21,
   "metadata": {},
   "outputs": [
    {
     "name": "stdout",
     "output_type": "stream",
     "text": [
      "    0 0.24248148500919342\n",
      "    2 0.3604864776134491\n",
      "    4 0.18556368350982666\n",
      "    6 0.33382007479667664\n",
      "    8 0.5422306656837463\n",
      "   10 0.16104143857955933\n",
      "   12 0.19972656667232513\n",
      "   14 0.3403984308242798\n",
      "   16 0.2939150929450989\n",
      "   18 0.30659735202789307\n",
      "   20 0.39700207114219666\n",
      "   22 0.30767878890037537\n",
      "   24 0.17942719161510468\n",
      "   26 0.18721641600131989\n",
      "   28 0.22907942533493042\n",
      "   30 0.18222172558307648\n"
     ]
    }
   ],
   "source": [
    "# Training steps\n",
    "\n",
    "epochs = 31   # feel free to change to 100 \n",
    "lr = LEARNING_RATE\n",
    "model.train()\n",
    "opt = torch.optim.Adam(model.parameters(), lr=lr)\n",
    "log_every = 2\n",
    "save_every = 10\n",
    "\n",
    "\n",
    "for epoch in range(epochs):\n",
    "  for X, Y in data:\n",
    "    X, Y = X.to(device), Y.to(device)\n",
    "    out = model(X)\n",
    "    loss = F.cross_entropy(out, Y)\n",
    "    opt.zero_grad()\n",
    "    loss.backward()\n",
    "    opt.step()\n",
    "\n",
    "  if epoch % log_every == 0:\n",
    "    # print loss\n",
    "    print(f'{epoch:5} {loss.item()}')\n",
    "  \n",
    "  if epoch>5 and epoch % save_every == 0:\n",
    "    # save model\n",
    "    torch.save(model.state_dict(), 'weights/vit_mnist_epoch%02d.pt' % (epoch,))\n"
   ]
  },
  {
   "cell_type": "markdown",
   "metadata": {},
   "source": [
    "\n",
    "### Wait for training finished, or you can interrupt, and load a saved model "
   ]
  },
  {
   "cell_type": "code",
   "execution_count": 19,
   "metadata": {},
   "outputs": [
    {
     "data": {
      "text/plain": [
       "<All keys matched successfully>"
      ]
     },
     "execution_count": 19,
     "metadata": {},
     "output_type": "execute_result"
    }
   ],
   "source": [
    "model.load_state_dict(torch.load('weights/vit_mnist_epoch30.pt'))"
   ]
  },
  {
   "cell_type": "code",
   "execution_count": 20,
   "metadata": {},
   "outputs": [
    {
     "name": "stdout",
     "output_type": "stream",
     "text": [
      "accuracy on test : 0.8091999888420105\n",
      "accuracy on train: 0.8013833165168762\n"
     ]
    }
   ],
   "source": [
    "# test set accuracy\n",
    "_ = accuracy(model)\n",
    "# train set accuracy\n",
    "_ = accuracy(model, label='train')"
   ]
  },
  {
   "cell_type": "markdown",
   "metadata": {},
   "source": [
    "## visualizations"
   ]
  },
  {
   "cell_type": "markdown",
   "metadata": {},
   "source": [
    "### visualize failures"
   ]
  },
  {
   "cell_type": "code",
   "execution_count": null,
   "metadata": {},
   "outputs": [],
   "source": [
    "@torch.no_grad()\n",
    "def failing(model, ds=data_test):\n",
    "    model.eval()\n",
    "    misslabeled_imgs = []\n",
    "    losses = []\n",
    "    wrong_labels = []\n",
    "    real_labels = []\n",
    "    for x, y in ds:\n",
    "        x, y = x.to(device), y.to(device)\n",
    "        logits = model(x)\n",
    "        out = logits.argmax(-1)\n",
    "        losses.append(-logits.softmax(1)[torch.arange(logits.shape[0]), y].log()[out != y])\n",
    "        misslabeled_imgs.append(x[out != y])\n",
    "        wrong_labels.append(out[out != y])\n",
    "        real_labels.append(y[out != y])\n",
    "    return torch.cat(misslabeled_imgs), torch.cat(wrong_labels), torch.cat(real_labels), torch.cat(losses)\n",
    "\n",
    "def sorted_failing(model, ds=data_test, descending=True):\n",
    "    imgs, wrong_labels, real_labels, losses = failing(model, ds)\n",
    "    order = losses.argsort(descending=descending)\n",
    "    return imgs[order], wrong_labels[order], real_labels[order], losses[order]\n",
    "\n",
    "def plot_failing(imgs, wrong_labels, real_labels, n_col=7, figsize=(12, 4)):\n",
    "    fig, ax = plt.subplots(2, n_col, figsize=figsize)\n",
    "    \n",
    "    for i in range(imgs.shape[0]):\n",
    "        idx = (i // n_col, i % n_col)\n",
    "        img = imgs[i].cpu().permute(1, 2, 0)\n",
    "        ax[idx].imshow(img)\n",
    "        ax[idx].set_title(f'p={wrong_labels[i].item()} / {real_labels[i].item()} loss={losses[i].item():.2f}')\n",
    "        ax[idx].set_xticks([])\n",
    "        ax[idx].set_yticks([])\n",
    "    plt.tight_layout()\n",
    "    plt.show()\n",
    "\n",
    "misslabeled_imgs, wrong_labels, real_labels, losses = sorted_failing(model)\n",
    "plot_failing(misslabeled_imgs[:14], wrong_labels[:14], real_labels[:14])"
   ]
  },
  {
   "cell_type": "markdown",
   "metadata": {},
   "source": [
    "### Plot confusion matrix\n",
    "### TODO: We want to know which classes are misclassified the most.\n",
    "### TODO: Provide top-5 cases, that True class A is misclassified as B.  Print A->B"
   ]
  },
  {
   "cell_type": "code",
   "execution_count": null,
   "metadata": {},
   "outputs": [],
   "source": [
    "@torch.no_grad()\n",
    "def label_all(model, ds=data_test):\n",
    "    model.eval()\n",
    "    predicted_labels = []\n",
    "    real_labels = []\n",
    "    for x, y in ds:\n",
    "        x, y = x.to(device), y.to(device)\n",
    "        out = model(x).argmax(-1)\n",
    "        predicted_labels.append(out)\n",
    "        real_labels.append(y)\n",
    "    return torch.cat(predicted_labels), torch.cat(real_labels)\n",
    "\n",
    "def to_confusion_matrix(predicted_labels, real_labels):\n",
    "    confusion_matrix = torch.zeros((10, 10), dtype=torch.int32)\n",
    "    for p, r in zip(predicted_labels, real_labels):\n",
    "        confusion_matrix[r, p] += 1\n",
    "    return confusion_matrix\n",
    "\n",
    "def plot_confusion_matrix(confusion_matrix, figsize=(5, 4)):\n",
    "    num_classes = confusion_matrix.shape[0]\n",
    "    plt.figure(figsize=figsize)\n",
    "    plt.imshow(confusion_matrix, interpolation='nearest', cmap='Blues', norm=colors.LogNorm())\n",
    "    for i in range(num_classes):\n",
    "        for j in range(num_classes):\n",
    "            plt.text(j, i, int(confusion_matrix[i, j]),\n",
    "                    ha=\"center\", va=\"center\",\n",
    "                    color=\"white\" if confusion_matrix[i, j] > confusion_matrix.max() / 2. else \"black\")\n",
    "    plt.title('confusion matrix')\n",
    "    plt.xlabel('predicted')\n",
    "    plt.ylabel('real')\n",
    "    plt.xticks(np.arange(num_classes))\n",
    "    plt.yticks(np.arange(num_classes))\n",
    "    plt.show()\n",
    "\n",
    "predicted_labels, real_labels = label_all(model)\n",
    "confusion_matrix = to_confusion_matrix(predicted_labels, real_labels)\n",
    "plot_confusion_matrix(confusion_matrix)"
   ]
  },
  {
   "cell_type": "markdown",
   "metadata": {},
   "source": [
    "### Visualize attention\n",
    "### TODO: what do you find the activation map?  \n",
    "### Display one digit as example and explain which token i is mostly associated with token j"
   ]
  },
  {
   "cell_type": "code",
   "execution_count": null,
   "metadata": {},
   "outputs": [],
   "source": [
    "from matplotlib.ticker import MaxNLocator\n",
    "\n",
    "@torch.no_grad()\n",
    "def visualize_attention(model, img):\n",
    "    model.eval()\n",
    "    plot(img)\n",
    "    tiles = einops.rearrange(img, 'c (h t1) (w t2) -> (h w) c t1 t2', t1=TILE_SIZE, t2=TILE_SIZE)\n",
    "    plot(tiles, n_col=4, block_size=0.75)\n",
    "    img = img.to(device).unsqueeze(0)\n",
    "    out, activations = model.forward_visualize(img)\n",
    "    out = out.argmax(-1).item()\n",
    "\n",
    "    plt.gca().axes.xaxis.set_major_locator(MaxNLocator(integer=True))\n",
    "    for block, acts in enumerate(activations):\n",
    "        # 17x17 attention magnitude\n",
    "        #print(acts.size())\n",
    "        acts = acts.squeeze()\n",
    "        acts = acts[1:,1:].cpu()\n",
    "        plt.imshow(acts)\n",
    "        \n",
    "visualize_attention(model, next(iter(data))[0][0])"
   ]
  },
  {
   "cell_type": "markdown",
   "metadata": {},
   "source": [
    "### Visualize positional embeddings\n",
    "#### note that emb is (1 + patch_number) * embed_size\n",
    "#### we discard the first [cls], then visualize patch_number*embed_size"
   ]
  },
  {
   "cell_type": "code",
   "execution_count": null,
   "metadata": {},
   "outputs": [],
   "source": [
    "@torch.no_grad()\n",
    "def visualize_positional_embeddings(emb):\n",
    "    print(emb.size())\n",
    "    # strip cls token\n",
    "    emb = emb[1:]\n",
    "    emb = einops.rearrange(emb, 'n (k1 k2) -> n 1 k1 k2', k1=4)\n",
    "    plot(emb, n_col=4, block_size=1)\n",
    "\n",
    "visualize_positional_embeddings(model.positional_embedding)"
   ]
  }
 ],
 "metadata": {
  "kernelspec": {
   "display_name": "videollava",
   "language": "python",
   "name": "python3"
  },
  "language_info": {
   "codemirror_mode": {
    "name": "ipython",
    "version": 3
   },
   "file_extension": ".py",
   "mimetype": "text/x-python",
   "name": "python",
   "nbconvert_exporter": "python",
   "pygments_lexer": "ipython3",
   "version": "3.10.14"
  }
 },
 "nbformat": 4,
 "nbformat_minor": 2
}
