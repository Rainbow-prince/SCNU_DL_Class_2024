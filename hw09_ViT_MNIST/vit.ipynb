{
 "cells": [
  {
   "cell_type": "code",
   "metadata": {
    "ExecuteTime": {
     "end_time": "2024-12-04T01:37:40.558638Z",
     "start_time": "2024-12-04T01:37:33.654309Z"
    }
   },
   "source": [
    "import numpy as np\n",
    "import math\n",
    "import einops\n",
    "import copy\n",
    "import random\n",
    "import torch\n",
    "import torch.nn as nn\n",
    "import torch.nn.functional as F\n",
    "import torchvision\n",
    "import matplotlib.pyplot as plt\n",
    "import matplotlib.colors as colors\n",
    "from matplotlib.animation import FuncAnimation\n",
    "from matplotlib.pyplot import figure\n",
    "%matplotlib inline\n",
    "\n",
    "device = 'cuda' if torch.cuda.is_available() else 'cpu'\n",
    "device"
   ],
   "outputs": [
    {
     "data": {
      "text/plain": [
       "'cuda'"
      ]
     },
     "execution_count": 1,
     "metadata": {},
     "output_type": "execute_result"
    }
   ],
   "execution_count": 1
  },
  {
   "cell_type": "code",
   "metadata": {
    "ExecuteTime": {
     "end_time": "2024-12-04T01:37:59.408882Z",
     "start_time": "2024-12-04T01:37:59.393205Z"
    }
   },
   "source": [
    "# pip install ipywidgets"
   ],
   "outputs": [],
   "execution_count": 2
  },
  {
   "cell_type": "markdown",
   "metadata": {},
   "source": [
    "### Read ViT paper and anwser the following TODO questions\n",
    "### https://arxiv.org/pdf/2010.11929"
   ]
  },
  {
   "cell_type": "markdown",
   "metadata": {},
   "source": [
    "## Download data \n",
    "#### turn on download=True if you use Colab"
   ]
  },
  {
   "cell_type": "code",
   "metadata": {
    "ExecuteTime": {
     "end_time": "2024-12-04T01:38:02.190667Z",
     "start_time": "2024-12-04T01:38:02.083432Z"
    }
   },
   "source": [
    "data = torch.utils.data.DataLoader(\n",
    "    torchvision.datasets.MNIST('./data', transform=torchvision.transforms.ToTensor(), download=True, train=True),\n",
    "    batch_size=128, shuffle=True)"
   ],
   "outputs": [],
   "execution_count": 3
  },
  {
   "cell_type": "code",
   "metadata": {
    "ExecuteTime": {
     "end_time": "2024-12-04T01:38:03.910785Z",
     "start_time": "2024-12-04T01:38:03.847855Z"
    }
   },
   "source": [
    "data_test = torch.utils.data.DataLoader(\n",
    "    torchvision.datasets.MNIST('./data', transform=torchvision.transforms.ToTensor(), download=False, train=False),\n",
    "    batch_size=128, shuffle=True)"
   ],
   "outputs": [],
   "execution_count": 4
  },
  {
   "cell_type": "markdown",
   "metadata": {},
   "source": [
    "## helpers"
   ]
  },
  {
   "cell_type": "code",
   "metadata": {
    "ExecuteTime": {
     "end_time": "2024-12-04T01:38:06.636541Z",
     "start_time": "2024-12-04T01:38:06.626111Z"
    }
   },
   "source": [
    "@torch.no_grad()\n",
    "def accuracy(model, label='test', silent=False):\n",
    "    model.eval()\n",
    "    dataset = data_test if label == 'test' else data\n",
    "    count = 0\n",
    "    correct = 0\n",
    "    for x, y in dataset:\n",
    "        x, y = x.to(device), y.to(device)\n",
    "        res = model(x).argmax(-1)\n",
    "        count += len(x)\n",
    "        correct += (res == y).float().sum()\n",
    "    acc = correct / count\n",
    "    if not silent: print(f'accuracy on {label:5}: {acc}')\n",
    "    return acc"
   ],
   "outputs": [],
   "execution_count": 5
  },
  {
   "cell_type": "code",
   "metadata": {
    "ExecuteTime": {
     "end_time": "2024-12-04T01:38:09.068540Z",
     "start_time": "2024-12-04T01:38:09.037273Z"
    }
   },
   "source": [
    "def plot(*args, n_col=None, figsize=None, block_size=3, labels=None):\n",
    "    '''Plot images in a grid\n",
    "    usage: plot(img1, img2, ...)\n",
    "    optional: n_col=3, figsize=(12, 8), block_size=1\n",
    "\n",
    "    img: torch.Tensor of shape (H, W) or (C, H, W) or [(H, W), ...] or [(C, H, W), ...]\n",
    "    '''\n",
    "    imgs = []\n",
    "    for img in args:\n",
    "        if isinstance(img, torch.Tensor):\n",
    "            if img.dim() == 4: imgs.extend([img[i] for i in range(img.shape[0])])\n",
    "            else: imgs.append(img)\n",
    "        if isinstance(img, list) or isinstance(img, tuple):\n",
    "            assert all(isinstance(i, torch.Tensor) and i.dim() == 3 for i in img)\n",
    "            imgs.extend(img)\n",
    "\n",
    "    # flatten channels\n",
    "    imgs = [img.squeeze(0) if img.dim() == 3 else img for img in imgs]\n",
    "    imgs = [img.detach().cpu() for img in imgs]\n",
    "\n",
    "    if n_col is None: n_col = len(imgs)\n",
    "    n_row = math.ceil(len(imgs) / n_col)\n",
    "    if figsize is None: figsize = (n_col * block_size, n_row * block_size)\n",
    "    # normalize ax to 2d array\n",
    "    fig, ax = plt.subplots(n_row, n_col, figsize=figsize)\n",
    "    if n_row == 1 and n_col == 1: ax = np.array([[ax]])\n",
    "    elif n_row == 1: ax = ax.reshape((1, -1))\n",
    "    elif n_col == 1: ax = ax.reshape((-1, 1))\n",
    "    # plot\n",
    "    for i, img in enumerate(imgs):\n",
    "        idx = (i // n_col, i % n_col)\n",
    "        ax[idx].imshow(img)\n",
    "        if labels and i < len(labels): ax[idx].set_title(labels[i])\n",
    "    # remove the axis\n",
    "    for i in range(n_row * n_col):\n",
    "        idx = (i // n_col, i % n_col)\n",
    "        ax[idx].set_xticks([])\n",
    "        ax[idx].set_yticks([])\n",
    "        if i >= len(imgs): ax[idx].axis('off')\n",
    "    plt.tight_layout()\n",
    "    plt.show()"
   ],
   "outputs": [],
   "execution_count": 6
  },
  {
   "cell_type": "code",
   "metadata": {
    "ExecuteTime": {
     "end_time": "2024-12-04T01:38:13.641489Z",
     "start_time": "2024-12-04T01:38:13.625898Z"
    }
   },
   "source": [
    "# test plot function\n",
    "def test_plot(scale=3):\n",
    "    imgs = next(iter(data))[0]\n",
    "    plot(imgs[0], block_size=scale)\n",
    "    plot(imgs[1], imgs[2], block_size=scale)\n",
    "    plot(imgs[3], imgs[4], n_col=scale, block_size=scale)\n",
    "    plot(imgs[5], imgs[6], imgs[7], n_col=2, block_size=scale)\n",
    "    plot(imgs[:5], n_col=3, block_size=scale)\n",
    "\n",
    "# test_plot()"
   ],
   "outputs": [],
   "execution_count": 7
  },
  {
   "cell_type": "markdown",
   "metadata": {},
   "source": [
    "## chunk images"
   ]
  },
  {
   "cell_type": "code",
   "metadata": {
    "ExecuteTime": {
     "end_time": "2024-12-04T01:38:16.021534Z",
     "start_time": "2024-12-04T01:38:15.833011Z"
    }
   },
   "source": [
    "images = next(iter(data))[0][:2]\n",
    "plot(images[0])\n",
    "print(images.size())"
   ],
   "outputs": [
    {
     "data": {
      "text/plain": [
       "<Figure size 300x300 with 1 Axes>"
      ],
      "image/png": "[encoded data removed]"
     },
     "metadata": {},
     "output_type": "display_data"
    },
    {
     "name": "stdout",
     "output_type": "stream",
     "text": [
      "torch.Size([2, 1, 28, 28])\n"
     ]
    }
   ],
   "execution_count": 8
  },
  {
   "cell_type": "markdown",
   "metadata": {},
   "source": [
    "### Visualize the 4x4 image chunks "
   ]
  },
  {
   "cell_type": "code",
   "metadata": {
    "ExecuteTime": {
     "end_time": "2024-12-04T01:38:18.887958Z",
     "start_time": "2024-12-04T01:38:18.825429Z"
    }
   },
   "source": [
    "b, c, h, w = images.shape\n",
    "# cut into tiles\n",
    "tile_size = 7\n",
    "plot(images[0])\n",
    "print(images[0].size())"
   ],
   "outputs": [
    {
     "data": {
      "text/plain": [
       "<Figure size 300x300 with 1 Axes>"
      ],
      "image/png": "[encoded data removed]"
     },
     "metadata": {},
     "output_type": "display_data"
    },
    {
     "name": "stdout",
     "output_type": "stream",
     "text": [
      "torch.Size([1, 28, 28])\n"
     ]
    }
   ],
   "execution_count": 9
  },
  {
   "cell_type": "markdown",
   "metadata": {},
   "source": [
    "### Use einops to speed the chunking'\n",
    "### Explain TODO in comment"
   ]
  },
  {
   "cell_type": "code",
   "metadata": {
    "ExecuteTime": {
     "end_time": "2024-12-04T01:38:22.645632Z",
     "start_time": "2024-12-04T01:38:22.069749Z"
    }
   },
   "source": [
    "# cut into tiles\n",
    "tile_size = 7\n",
    "tiles = einops.rearrange(images, 'b c (h t1) (w t2) -> b (h w) c t1 t2', t1=tile_size, t2=tile_size)\n",
    "plot(tiles[0], n_col=4, block_size=1)\n",
    "print(tiles.size())\n",
    "# the tiles have size (Batch, 16=4x4, channel=1, H=7, W=7), that is the tokens are sequential\n",
    "# explain why tiles[0, 5, ...] are equal to images[B=0,C=0,H=7:14,W=7:14]\n",
    "# hint: the tiles[0, 5] is 5-th token of first image in batch, which is the row=1,col=1 token of size 7x7\n",
    "# the image pixels are ?\n",
    "print(tiles[0,5,0,:])\n",
    "print(images[0,0,7:14,7:14])\n",
    "assert torch.allclose(tiles[0,5,0,:],images[0,0,7:14,7:14])"
   ],
   "outputs": [
    {
     "data": {
      "text/plain": [
       "<Figure size 400x400 with 16 Axes>"
      ],
      "image/png": "[encoded data removed]"
     },
     "metadata": {},
     "output_type": "display_data"
    },
    {
     "name": "stdout",
     "output_type": "stream",
     "text": [
      "torch.Size([2, 16, 1, 7, 7])\n",
      "tensor([[0.0000, 0.0000, 0.0000, 0.4157, 0.8980, 0.9961, 1.0000],\n",
      "        [0.2275, 0.6549, 0.9176, 0.9843, 0.9922, 0.9922, 0.9922],\n",
      "        [0.9294, 0.9922, 0.9922, 0.9922, 0.9922, 0.9922, 0.8000],\n",
      "        [0.9922, 0.8824, 0.7765, 0.5843, 0.2392, 0.2392, 0.0863],\n",
      "        [0.3216, 0.1569, 0.0000, 0.0000, 0.0000, 0.0000, 0.0000],\n",
      "        [0.0000, 0.0000, 0.0000, 0.0000, 0.0000, 0.0000, 0.0000],\n",
      "        [0.0000, 0.0000, 0.0000, 0.0000, 0.0000, 0.0000, 0.0000]])\n",
      "tensor([[0.0000, 0.0000, 0.0000, 0.4157, 0.8980, 0.9961, 1.0000],\n",
      "        [0.2275, 0.6549, 0.9176, 0.9843, 0.9922, 0.9922, 0.9922],\n",
      "        [0.9294, 0.9922, 0.9922, 0.9922, 0.9922, 0.9922, 0.8000],\n",
      "        [0.9922, 0.8824, 0.7765, 0.5843, 0.2392, 0.2392, 0.0863],\n",
      "        [0.3216, 0.1569, 0.0000, 0.0000, 0.0000, 0.0000, 0.0000],\n",
      "        [0.0000, 0.0000, 0.0000, 0.0000, 0.0000, 0.0000, 0.0000],\n",
      "        [0.0000, 0.0000, 0.0000, 0.0000, 0.0000, 0.0000, 0.0000]])\n"
     ]
    }
   ],
   "execution_count": 10
  },
  {
   "cell_type": "markdown",
   "metadata": {},
   "source": [
    "## Encoder parameters\n",
    "### TODO: explain what is the value of context_size and its meaning"
   ]
  },
  {
   "cell_type": "code",
   "metadata": {
    "ExecuteTime": {
     "end_time": "2024-12-04T01:38:28.407034Z",
     "start_time": "2024-12-04T01:38:28.391411Z"
    }
   },
   "source": [
    "N_HEADS = 2\n",
    "N_BLOCKS = 2\n",
    "VOCAB_SIZE = 10\n",
    "EMBED_SIZE = 16\n",
    "HIDDEN_SIZE = 32\n",
    "IMG_SIZE = 28\n",
    "CHANNEL = 1\n",
    "TILE_SIZE = 7\n",
    "assert IMG_SIZE % TILE_SIZE == 0\n",
    "CONTEXT_SIZE = 1 + (IMG_SIZE // TILE_SIZE) ** 2\n",
    "LEARNING_RATE = 3e-4\n",
    "DROPOUT = 0.1"
   ],
   "outputs": [],
   "execution_count": 11
  },
  {
   "cell_type": "code",
   "metadata": {
    "ExecuteTime": {
     "end_time": "2024-12-04T01:38:30.507777Z",
     "start_time": "2024-12-04T01:38:30.476461Z"
    }
   },
   "source": [
    "CONTEXT_SIZE  # why add 1?"
   ],
   "outputs": [
    {
     "data": {
      "text/plain": [
       "17"
      ]
     },
     "execution_count": 12,
     "metadata": {},
     "output_type": "execute_result"
    }
   ],
   "execution_count": 12
  },
  {
   "cell_type": "markdown",
   "metadata": {},
   "source": [
    "### Sinuoid positional embedding\n",
    "### TODO: refer to Transformer paper and explain the function of the position encoding"
   ]
  },
  {
   "cell_type": "code",
   "metadata": {
    "ExecuteTime": {
     "end_time": "2024-12-04T01:38:32.435981Z",
     "start_time": "2024-12-04T01:38:32.420357Z"
    }
   },
   "source": [
    "def get_sinusoidal_positional_encoding(context_size=CONTEXT_SIZE, embed_size=EMBED_SIZE):\n",
    "  position = torch.arange(context_size).unsqueeze(1)\n",
    "  div_term = torch.exp(torch.arange(0, embed_size, 2) * -(math.log(10000.0) / embed_size))\n",
    "  positional_encoding = torch.zeros(context_size, embed_size)\n",
    "  positional_encoding[:, 0::2] = torch.sin(position * div_term)\n",
    "  positional_encoding[:, 1::2] = torch.cos(position * div_term)\n",
    "  return positional_encoding.to(device)"
   ],
   "outputs": [],
   "execution_count": 13
  },
  {
   "cell_type": "markdown",
   "metadata": {},
   "source": [
    "### TODO: Explain each step in MultiheadAttention forward function and associate with the QKV equation\n",
    "### TODO: Explain why self.qkv is one linear function instead of three\n",
    "### TODO: Explain why q,k,v transpose(1,2) and y transpose back"
   ]
  },
  {
   "cell_type": "code",
   "metadata": {
    "ExecuteTime": {
     "end_time": "2024-12-04T01:38:34.987644Z",
     "start_time": "2024-12-04T01:38:34.955893Z"
    }
   },
   "source": [
    "class MultiheadAttention(nn.Module):\n",
    "  def __init__(self, n_heads, embed_size, dropout, n_block=0):\n",
    "    super().__init__()\n",
    "    assert embed_size % n_heads == 0, f'{embed_size=} should be divisible by {n_heads=}'\n",
    "    self.n_heads = n_heads\n",
    "    self.embed_size = embed_size\n",
    "    self.dropout_rate = dropout\n",
    "    self.n_block = n_block  # The No. of this MHA\n",
    "    self.qkv = nn.Linear(embed_size, embed_size * 3, bias=False) # generate Q, K, V all at once\n",
    "    self.dropout = nn.Dropout(dropout)\n",
    "    self.ln = nn.LayerNorm(embed_size)\n",
    "\n",
    "  def forward(self, x):\n",
    "    B, C, E = x.shape\n",
    "    # pre-layernorm\n",
    "    x = self.ln(x)\n",
    "    q, k, v = self.qkv(x).chunk(3, dim=-1)\n",
    "    # split heads\n",
    "    q = q.view(B, C, self.n_heads, self.embed_size // self.n_heads).transpose(1, 2)\n",
    "    k = k.view(B, C, self.n_heads, self.embed_size // self.n_heads).transpose(1, 2)\n",
    "    v = v.view(B, C, self.n_heads, self.embed_size // self.n_heads).transpose(1, 2)\n",
    "    # compute QKV\n",
    "    correlation = q @ k.transpose(-2, -1)\n",
    "    correlation = correlation / math.sqrt(k.shape[-1])\n",
    "    correlation = F.softmax(correlation, dim=-1)\n",
    "    correlation = F.dropout(correlation, p=self.dropout_rate, training=self.training)\n",
    "    y = correlation @ v\n",
    "    # combine heads\n",
    "    y = y.transpose(1, 2).contiguous().view(B, C, self.embed_size)\n",
    "    y = self.dropout(y)\n",
    "    return y\n",
    "\n",
    "  def forward_visualize(self, x):\n",
    "    B, C, E = x.shape\n",
    "    # pre-layernorm\n",
    "    x = self.ln(x)\n",
    "    q, k, v = self.qkv(x).chunk(3, dim=-1)\n",
    "    # split heads\n",
    "    q = q.view(B, C, self.n_heads, self.embed_size // self.n_heads).transpose(1, 2)\n",
    "    k = k.view(B, C, self.n_heads, self.embed_size // self.n_heads).transpose(1, 2)\n",
    "    v = v.view(B, C, self.n_heads, self.embed_size // self.n_heads).transpose(1, 2)\n",
    "    # by hand\n",
    "    correlation = q @ k.transpose(-2, -1)\n",
    "    correlation = correlation / math.sqrt(k.shape[-1])\n",
    "    correlation = F.softmax(correlation, dim=-1)\n",
    "    correlation = F.dropout(correlation, p=self.dropout_rate, training=self.training)\n",
    "    y = correlation @ v\n",
    "    # combine heads\n",
    "    y = y.transpose(1, 2).contiguous().view(B, C, self.embed_size)\n",
    "    y = self.dropout(y)\n",
    "    return y, correlation\n",
    "\n",
    "class Block(nn.Module):\n",
    "  def __init__(self, n_heads, embed_size, hidden_size, dropout, n_block):\n",
    "    super().__init__()\n",
    "    self.block = n_block\n",
    "    self.attention = MultiheadAttention(n_heads, embed_size, dropout=dropout, n_block=n_block)\n",
    "    self.ff = nn.Sequential(\n",
    "      nn.LayerNorm(embed_size), # pre-layernorm\n",
    "      nn.Linear(embed_size, hidden_size),\n",
    "      nn.ReLU(),\n",
    "      nn.Linear(hidden_size, embed_size),\n",
    "      nn.Dropout(dropout)\n",
    "    )\n",
    "\n",
    "  def forward(self, x):\n",
    "    x = x + self.attention(x)\n",
    "    x = x + self.ff(x)\n",
    "    return x\n",
    "  \n",
    "  def forward_visualize(self, x):\n",
    "    x1, cor = self.attention.forward_visualize(x)\n",
    "    x = x + x1\n",
    "    x = x + self.ff(x)\n",
    "    return x, cor\n",
    "  "
   ],
   "outputs": [],
   "execution_count": 14
  },
  {
   "cell_type": "markdown",
   "metadata": {},
   "source": [
    "### TODO: explain what is the size and functionality of tile_embedding layer "
   ]
  },
  {
   "metadata": {},
   "cell_type": "markdown",
   "source": "vit的多头注意力机制"
  },
  {
   "cell_type": "code",
   "metadata": {
    "ExecuteTime": {
     "end_time": "2024-12-04T01:38:41.800874Z",
     "start_time": "2024-12-04T01:38:41.785319Z"
    }
   },
   "source": [
    "class Net1(nn.Module):\n",
    "  def __init__(self, n_heads=N_HEADS, n_blocks=N_BLOCKS, embed_size=EMBED_SIZE, hidden_size=HIDDEN_SIZE, vocab_size=VOCAB_SIZE, context_size=CONTEXT_SIZE, dropout=DROPOUT, tile_size=TILE_SIZE):\n",
    "    super().__init__()\n",
    "    self.context_size = context_size\n",
    "    self.tile_size = tile_size\n",
    "    # net\n",
    "    self.positional_embedding = get_sinusoidal_positional_encoding()\n",
    "    self.tile_embedding = nn.Linear(TILE_SIZE * TILE_SIZE * CHANNEL, embed_size)\n",
    "    self.cls_token = nn.Parameter(torch.randn(1, 1, embed_size))\n",
    "    self.blocks = nn.Sequential(*[Block(n_heads, embed_size, hidden_size, dropout, i) for i in range(n_blocks)])\n",
    "    self.head = nn.Linear(embed_size, vocab_size)\n",
    "\n",
    "  def forward(self, x):\n",
    "    # (batch_size, channel, height, width)\n",
    "    # split into tiles/patches/chunks\n",
    "    x = einops.rearrange(x, 'b c (h t1) (w t2) -> b (h w) (c t1 t2)', t1=self.tile_size, t2=self.tile_size)\n",
    "    # embed\n",
    "    x = self.tile_embedding(x)\n",
    "    # add cls token\n",
    "    cls_token = self.cls_token.expand(x.shape[0], -1, -1)\n",
    "    x = torch.cat((cls_token, x), dim=1)\n",
    "    # positional encoding\n",
    "    x = x + self.positional_embedding\n",
    "    # attention and ff\n",
    "    x = self.blocks(x)\n",
    "    # head\n",
    "    x = self.head(x)\n",
    "    # only look at first token:\n",
    "    x = x[:, 0, :]\n",
    "    return x\n",
    "  \n",
    "  def forward_visualize(self, x):\n",
    "    # (batch_size, channel, height, width)\n",
    "    # split into tiles/patches/chunks\n",
    "    x = einops.rearrange(x, 'b c (h t1) (w t2) -> b (h w) (c t1 t2)', t1=self.tile_size, t2=self.tile_size)\n",
    "    # embed\n",
    "    x = self.tile_embedding(x)\n",
    "    # add cls token\n",
    "    cls_token = self.cls_token.expand(x.shape[0], -1, -1)\n",
    "    x = torch.cat((cls_token, x), dim=1)\n",
    "    # positional encoding\n",
    "    x = x + self.positional_embedding\n",
    "    all_corrs = []\n",
    "    for block in self.blocks:\n",
    "      x, corr = block.forward_visualize(x)\n",
    "      all_corrs.append(corr.detach())\n",
    "    \n",
    "    x = self.head(x)\n",
    "    # only look at first token:\n",
    "    x = x[:, 0, :]\n",
    "    return x, all_corrs\n",
    "    "
   ],
   "outputs": [],
   "execution_count": 15
  },
  {
   "metadata": {},
   "cell_type": "markdown",
   "source": "RoPE"
  },
  {
   "metadata": {
    "ExecuteTime": {
     "end_time": "2024-12-04T02:36:30.488283Z",
     "start_time": "2024-12-04T02:36:30.441371Z"
    }
   },
   "cell_type": "code",
   "source": [
    "class Net(nn.Module):\n",
    "    def __init__(self, n_heads=N_HEADS, n_blocks=N_BLOCKS, embed_size=EMBED_SIZE, hidden_size=HIDDEN_SIZE, vocab_size=VOCAB_SIZE, context_size=CONTEXT_SIZE, dropout=DROPOUT, tile_size=TILE_SIZE):\n",
    "        super().__init__()\n",
    "        self.context_size = context_size\n",
    "        self.tile_size = tile_size\n",
    "        \n",
    "        # net\n",
    "        self.tile_embedding = nn.Linear(TILE_SIZE * TILE_SIZE * CHANNEL, embed_size)\n",
    "        self.cls_token = nn.Parameter(torch.randn(1, 1, embed_size))\n",
    "        \n",
    "        # 使用 RoPE-Attention，不需要单独的位置编码\n",
    "        self.blocks = nn.Sequential(*[Block(n_heads, embed_size, hidden_size, dropout, i) for i in range(n_blocks)])\n",
    "        self.head = nn.Linear(embed_size, vocab_size)\n",
    "\n",
    "    def forward(self, x):\n",
    "        # (batch_size, channel, height, width)\n",
    "        # split into tiles/patches/chunks\n",
    "        x = einops.rearrange(x, 'b c (h t1) (w t2) -> b (h w) (c t1 t2)', t1=self.tile_size, t2=self.tile_size)\n",
    "        \n",
    "        # embed\n",
    "        x = self.tile_embedding(x)\n",
    "        \n",
    "        # add cls token\n",
    "        cls_token = self.cls_token.expand(x.shape[0], -1, -1)\n",
    "        x = torch.cat((cls_token, x), dim=1)\n",
    "        \n",
    "        # attention and ff\n",
    "        x = self.blocks(x)\n",
    "        \n",
    "        # head\n",
    "        x = self.head(x)\n",
    "        \n",
    "        # only look at first token:\n",
    "        x = x[:, 0, :]\n",
    "        return x\n",
    "    \n",
    "    def forward_visualize(self, x):\n",
    "        # (batch_size, channel, height, width)\n",
    "        # split into tiles/patches/chunks\n",
    "        x = einops.rearrange(x, 'b c (h t1) (w t2) -> b (h w) (c t1 t2)', t1=self.tile_size, t2=self.tile_size)\n",
    "        \n",
    "        # embed\n",
    "        x = self.tile_embedding(x)\n",
    "        \n",
    "        # add cls token\n",
    "        cls_token = self.cls_token.expand(x.shape[0], -1, -1)\n",
    "        x = torch.cat((cls_token, x), dim=1)\n",
    "        \n",
    "        # all_corrs will store attention correlations for visualization\n",
    "        all_corrs = []\n",
    "        for block in self.blocks:\n",
    "            x, corr = block.forward_visualize(x)\n",
    "            all_corrs.append(corr.detach())\n",
    "        \n",
    "        x = self.head(x)\n",
    "        # only look at first token:\n",
    "        x = x[:, 0, :]\n",
    "        return x, all_corrs"
   ],
   "outputs": [],
   "execution_count": 31
  },
  {
   "cell_type": "markdown",
   "metadata": {},
   "source": [
    "## Training stage"
   ]
  },
  {
   "cell_type": "markdown",
   "metadata": {},
   "source": [
    "### TODO: Draw outline of this ViT, including the exact number of blocks"
   ]
  },
  {
   "cell_type": "code",
   "metadata": {
    "ExecuteTime": {
     "end_time": "2024-12-04T02:36:40.405469Z",
     "start_time": "2024-12-04T02:36:40.374168Z"
    }
   },
   "source": "model = Net(n_heads=2, n_blocks=2).to(device)",
   "outputs": [],
   "execution_count": 32
  },
  {
   "cell_type": "code",
   "metadata": {
    "ExecuteTime": {
     "end_time": "2024-12-04T02:37:10.369360Z",
     "start_time": "2024-12-04T02:37:10.249791Z"
    }
   },
   "source": [
    "# resume training if you want\n",
    "model.load_state_dict(torch.load('weights/vit_mnist_epoch30.pt'))"
   ],
   "outputs": [
    {
     "ename": "ValueError",
     "evalue": "I/O operation on closed file",
     "output_type": "error",
     "traceback": [
      "\u001B[1;31m---------------------------------------------------------------------------\u001B[0m",
      "\u001B[1;31mValueError\u001B[0m                                Traceback (most recent call last)",
      "Input \u001B[1;32mIn [35]\u001B[0m, in \u001B[0;36m<cell line: 2>\u001B[1;34m()\u001B[0m\n\u001B[0;32m      1\u001B[0m \u001B[38;5;66;03m# resume training if you want\u001B[39;00m\n\u001B[1;32m----> 2\u001B[0m model\u001B[38;5;241m.\u001B[39mload_state_dict(\u001B[43mtorch\u001B[49m\u001B[38;5;241;43m.\u001B[39;49m\u001B[43mload\u001B[49m\u001B[43m(\u001B[49m\u001B[38;5;124;43m'\u001B[39;49m\u001B[38;5;124;43mweights/vit_mnist_epoch10.pt\u001B[39;49m\u001B[38;5;124;43m'\u001B[39;49m\u001B[43m)\u001B[49m)\n",
      "File \u001B[1;32mE:\\100-BUSSINESS_MAJOR\\Virtual_Environment\\Pytorch_Limu\\lib\\site-packages\\torch\\serialization.py:1040\u001B[0m, in \u001B[0;36mload\u001B[1;34m(f, map_location, pickle_module, weights_only, mmap, **pickle_load_args)\u001B[0m\n\u001B[0;32m   1038\u001B[0m     \u001B[38;5;28;01mif\u001B[39;00m pickle_module \u001B[38;5;129;01mis\u001B[39;00m \u001B[38;5;28;01mNone\u001B[39;00m:\n\u001B[0;32m   1039\u001B[0m         \u001B[38;5;28;01mif\u001B[39;00m warn_weights_only:\n\u001B[1;32m-> 1040\u001B[0m             \u001B[43mwarnings\u001B[49m\u001B[38;5;241;43m.\u001B[39;49m\u001B[43mwarn\u001B[49m\u001B[43m(\u001B[49m\n\u001B[0;32m   1041\u001B[0m \u001B[43m                \u001B[49m\u001B[38;5;124;43m\"\u001B[39;49m\u001B[38;5;124;43mYou are using `torch.load` with `weights_only=False` (the current default value), which uses \u001B[39;49m\u001B[38;5;124;43m\"\u001B[39;49m\n\u001B[0;32m   1042\u001B[0m \u001B[43m                \u001B[49m\u001B[38;5;124;43m\"\u001B[39;49m\u001B[38;5;124;43mthe default pickle module implicitly. It is possible to construct malicious pickle data \u001B[39;49m\u001B[38;5;124;43m\"\u001B[39;49m\n\u001B[0;32m   1043\u001B[0m \u001B[43m                \u001B[49m\u001B[38;5;124;43m\"\u001B[39;49m\u001B[38;5;124;43mwhich will execute arbitrary code during unpickling (See \u001B[39;49m\u001B[38;5;124;43m\"\u001B[39;49m\n\u001B[0;32m   1044\u001B[0m \u001B[43m                \u001B[49m\u001B[38;5;124;43m\"\u001B[39;49m\u001B[38;5;124;43mhttps://github.com/pytorch/pytorch/blob/main/SECURITY.md#untrusted-models for more details). \u001B[39;49m\u001B[38;5;124;43m\"\u001B[39;49m\n\u001B[0;32m   1045\u001B[0m \u001B[43m                \u001B[49m\u001B[38;5;124;43m\"\u001B[39;49m\u001B[38;5;124;43mIn a future release, the default value for `weights_only` will be flipped to `True`. This \u001B[39;49m\u001B[38;5;124;43m\"\u001B[39;49m\n\u001B[0;32m   1046\u001B[0m \u001B[43m                \u001B[49m\u001B[38;5;124;43m\"\u001B[39;49m\u001B[38;5;124;43mlimits the functions that could be executed during unpickling. Arbitrary objects will no \u001B[39;49m\u001B[38;5;124;43m\"\u001B[39;49m\n\u001B[0;32m   1047\u001B[0m \u001B[43m                \u001B[49m\u001B[38;5;124;43m\"\u001B[39;49m\u001B[38;5;124;43mlonger be allowed to be loaded via this mode unless they are explicitly allowlisted by the \u001B[39;49m\u001B[38;5;124;43m\"\u001B[39;49m\n\u001B[0;32m   1048\u001B[0m \u001B[43m                \u001B[49m\u001B[38;5;124;43m\"\u001B[39;49m\u001B[38;5;124;43muser via `torch.serialization.add_safe_globals`. We recommend you start setting \u001B[39;49m\u001B[38;5;124;43m\"\u001B[39;49m\n\u001B[0;32m   1049\u001B[0m \u001B[43m                \u001B[49m\u001B[38;5;124;43m\"\u001B[39;49m\u001B[38;5;124;43m`weights_only=True` for any use case where you don\u001B[39;49m\u001B[38;5;124;43m'\u001B[39;49m\u001B[38;5;124;43mt have full control of the loaded file. \u001B[39;49m\u001B[38;5;124;43m\"\u001B[39;49m\n\u001B[0;32m   1050\u001B[0m \u001B[43m                \u001B[49m\u001B[38;5;124;43m\"\u001B[39;49m\u001B[38;5;124;43mPlease open an issue on GitHub for any issues related to this experimental feature.\u001B[39;49m\u001B[38;5;124;43m\"\u001B[39;49m\u001B[43m,\u001B[49m\n\u001B[0;32m   1051\u001B[0m \u001B[43m                \u001B[49m\u001B[38;5;167;43;01mFutureWarning\u001B[39;49;00m\u001B[43m,\u001B[49m\n\u001B[0;32m   1052\u001B[0m \u001B[43m                \u001B[49m\u001B[43mstacklevel\u001B[49m\u001B[38;5;241;43m=\u001B[39;49m\u001B[38;5;241;43m2\u001B[39;49m\u001B[43m,\u001B[49m\n\u001B[0;32m   1053\u001B[0m \u001B[43m            \u001B[49m\u001B[43m)\u001B[49m\n\u001B[0;32m   1054\u001B[0m         pickle_module \u001B[38;5;241m=\u001B[39m pickle\n\u001B[0;32m   1056\u001B[0m \u001B[38;5;66;03m# make flipping default BC-compatible\u001B[39;00m\n",
      "File \u001B[1;32m~\\AppData\\Local\\Programs\\Python\\Python38\\lib\\warnings.py:112\u001B[0m, in \u001B[0;36m_showwarnmsg\u001B[1;34m(msg)\u001B[0m\n\u001B[0;32m    109\u001B[0m         sw(msg\u001B[38;5;241m.\u001B[39mmessage, msg\u001B[38;5;241m.\u001B[39mcategory, msg\u001B[38;5;241m.\u001B[39mfilename, msg\u001B[38;5;241m.\u001B[39mlineno,\n\u001B[0;32m    110\u001B[0m            msg\u001B[38;5;241m.\u001B[39mfile, msg\u001B[38;5;241m.\u001B[39mline)\n\u001B[0;32m    111\u001B[0m         \u001B[38;5;28;01mreturn\u001B[39;00m\n\u001B[1;32m--> 112\u001B[0m \u001B[43m_showwarnmsg_impl\u001B[49m\u001B[43m(\u001B[49m\u001B[43mmsg\u001B[49m\u001B[43m)\u001B[49m\n",
      "File \u001B[1;32m~\\AppData\\Local\\Programs\\Python\\Python38\\lib\\warnings.py:30\u001B[0m, in \u001B[0;36m_showwarnmsg_impl\u001B[1;34m(msg)\u001B[0m\n\u001B[0;32m     28\u001B[0m text \u001B[38;5;241m=\u001B[39m _formatwarnmsg(msg)\n\u001B[0;32m     29\u001B[0m \u001B[38;5;28;01mtry\u001B[39;00m:\n\u001B[1;32m---> 30\u001B[0m     \u001B[43mfile\u001B[49m\u001B[38;5;241;43m.\u001B[39;49m\u001B[43mwrite\u001B[49m\u001B[43m(\u001B[49m\u001B[43mtext\u001B[49m\u001B[43m)\u001B[49m\n\u001B[0;32m     31\u001B[0m \u001B[38;5;28;01mexcept\u001B[39;00m \u001B[38;5;167;01mOSError\u001B[39;00m:\n\u001B[0;32m     32\u001B[0m     \u001B[38;5;66;03m# the file (probably stderr) is invalid - this warning gets lost.\u001B[39;00m\n\u001B[0;32m     33\u001B[0m     \u001B[38;5;28;01mpass\u001B[39;00m\n",
      "File \u001B[1;32mE:\\100-BUSSINESS_MAJOR\\Virtual_Environment\\Pytorch_Limu\\lib\\site-packages\\ipykernel\\iostream.py:679\u001B[0m, in \u001B[0;36mOutStream.write\u001B[1;34m(self, string)\u001B[0m\n\u001B[0;32m    677\u001B[0m \u001B[38;5;28;01mif\u001B[39;00m \u001B[38;5;28mself\u001B[39m\u001B[38;5;241m.\u001B[39mpub_thread \u001B[38;5;129;01mis\u001B[39;00m \u001B[38;5;28;01mNone\u001B[39;00m:\n\u001B[0;32m    678\u001B[0m     msg \u001B[38;5;241m=\u001B[39m \u001B[38;5;124m\"\u001B[39m\u001B[38;5;124mI/O operation on closed file\u001B[39m\u001B[38;5;124m\"\u001B[39m\n\u001B[1;32m--> 679\u001B[0m     \u001B[38;5;28;01mraise\u001B[39;00m \u001B[38;5;167;01mValueError\u001B[39;00m(msg)\n\u001B[0;32m    681\u001B[0m is_child \u001B[38;5;241m=\u001B[39m \u001B[38;5;129;01mnot\u001B[39;00m \u001B[38;5;28mself\u001B[39m\u001B[38;5;241m.\u001B[39m_is_master_process()\n\u001B[0;32m    682\u001B[0m \u001B[38;5;66;03m# only touch the buffer in the IO thread to avoid races\u001B[39;00m\n",
      "\u001B[1;31mValueError\u001B[0m: I/O operation on closed file"
     ]
    }
   ],
   "execution_count": 35
  },
  {
   "cell_type": "markdown",
   "metadata": {},
   "source": [
    "### If you don't have a GPU, borrow one checkpoint file from your classmate, and skip the training steps\n",
    "### If you have a 4060 or better GPU, try running for 50 steps or more, and check the accuracy"
   ]
  },
  {
   "cell_type": "code",
   "metadata": {
    "ExecuteTime": {
     "end_time": "2024-12-04T02:42:19.453227Z",
     "start_time": "2024-12-04T02:37:21.192897Z"
    }
   },
   "source": [
    "# Training steps\n",
    "\n",
    "epochs = 31   # feel free to change to 100 \n",
    "lr = LEARNING_RATE\n",
    "model.train()\n",
    "opt = torch.optim.Adam(model.parameters(), lr=lr)\n",
    "log_every = 2\n",
    "save_every = 10\n",
    "\n",
    "\n",
    "for epoch in range(epochs):\n",
    "  for X, Y in data:\n",
    "    X, Y = X.to(device), Y.to(device)\n",
    "    out = model(X)\n",
    "    loss = F.cross_entropy(out, Y)\n",
    "    opt.zero_grad()\n",
    "    loss.backward()\n",
    "    opt.step()\n",
    "\n",
    "  if epoch % log_every == 0:\n",
    "    # print loss\n",
    "    print(f'{epoch:5} {loss.item()}')\n",
    "  \n",
    "  if epoch>5 and epoch % save_every == 0:\n",
    "    # save model\n",
    "    torch.save(model.state_dict(), 'weights/vit_mnist_epoch%02d.pt' % (epoch,))\n"
   ],
   "outputs": [
    {
     "name": "stdout",
     "output_type": "stream",
     "text": [
      "    0 1.2769831418991089\n",
      "    2 1.0779155492782593\n",
      "    4 0.9087009429931641\n",
      "    6 0.8295657634735107\n",
      "    8 0.7693719863891602\n",
      "   10 0.8548124432563782\n",
      "   12 0.7581799626350403\n",
      "   14 0.7618791460990906\n",
      "   16 0.8063366413116455\n",
      "   18 0.656592071056366\n",
      "   20 0.6823649406433105\n",
      "   22 0.7817195057868958\n",
      "   24 0.9514741897583008\n",
      "   26 0.6032406687736511\n",
      "   28 0.5501758456230164\n",
      "   30 0.5386704802513123\n"
     ]
    }
   ],
   "execution_count": 36
  },
  {
   "cell_type": "markdown",
   "metadata": {},
   "source": [
    "\n",
    "### Wait for training finished, or you can interrupt, and load a saved model "
   ]
  },
  {
   "cell_type": "code",
   "metadata": {
    "ExecuteTime": {
     "end_time": "2024-12-04T01:39:03.261031Z",
     "start_time": "2024-12-04T01:39:03.229692Z"
    }
   },
   "source": [
    "model.load_state_dict(torch.load('weights/vit_mnist_epoch30.pt'))"
   ],
   "outputs": [
    {
     "name": "stderr",
     "output_type": "stream",
     "text": [
      "C:\\Users\\A123\\AppData\\Local\\Temp\\ipykernel_9556\\1509302341.py:1: FutureWarning: You are using `torch.load` with `weights_only=False` (the current default value), which uses the default pickle module implicitly. It is possible to construct malicious pickle data which will execute arbitrary code during unpickling (See https://github.com/pytorch/pytorch/blob/main/SECURITY.md#untrusted-models for more details). In a future release, the default value for `weights_only` will be flipped to `True`. This limits the functions that could be executed during unpickling. Arbitrary objects will no longer be allowed to be loaded via this mode unless they are explicitly allowlisted by the user via `torch.serialization.add_safe_globals`. We recommend you start setting `weights_only=True` for any use case where you don't have full control of the loaded file. Please open an issue on GitHub for any issues related to this experimental feature.\n",
      "  model.load_state_dict(torch.load('weights/vit_mnist_epoch30.pt'))\n"
     ]
    },
    {
     "data": {
      "text/plain": [
       "<All keys matched successfully>"
      ]
     },
     "execution_count": 18,
     "metadata": {},
     "output_type": "execute_result"
    }
   ],
   "execution_count": 18
  },
  {
   "cell_type": "code",
   "metadata": {
    "ExecuteTime": {
     "end_time": "2024-12-04T01:39:13.997404Z",
     "start_time": "2024-12-04T01:39:07.791421Z"
    }
   },
   "source": [
    "# test set accuracy\n",
    "_ = accuracy(model)\n",
    "# train set accuracy\n",
    "_ = accuracy(model, label='train')"
   ],
   "outputs": [
    {
     "name": "stdout",
     "output_type": "stream",
     "text": [
      "accuracy on test : 0.9425999522209167\n",
      "accuracy on train: 0.944266676902771\n"
     ]
    }
   ],
   "execution_count": 19
  },
  {
   "cell_type": "markdown",
   "metadata": {},
   "source": [
    "## visualizations"
   ]
  },
  {
   "cell_type": "markdown",
   "metadata": {},
   "source": [
    "### visualize failures"
   ]
  },
  {
   "cell_type": "code",
   "metadata": {
    "ExecuteTime": {
     "end_time": "2024-12-04T01:39:19.313166Z",
     "start_time": "2024-12-04T01:39:17.290672Z"
    }
   },
   "source": [
    "@torch.no_grad()\n",
    "def failing(model, ds=data_test):\n",
    "    model.eval()\n",
    "    misslabeled_imgs = []\n",
    "    losses = []\n",
    "    wrong_labels = []\n",
    "    real_labels = []\n",
    "    for x, y in ds:\n",
    "        x, y = x.to(device), y.to(device)\n",
    "        logits = model(x)\n",
    "        out = logits.argmax(-1)\n",
    "        losses.append(-logits.softmax(1)[torch.arange(logits.shape[0]), y].log()[out != y])\n",
    "        misslabeled_imgs.append(x[out != y])\n",
    "        wrong_labels.append(out[out != y])\n",
    "        real_labels.append(y[out != y])\n",
    "    return torch.cat(misslabeled_imgs), torch.cat(wrong_labels), torch.cat(real_labels), torch.cat(losses)\n",
    "\n",
    "def sorted_failing(model, ds=data_test, descending=True):\n",
    "    imgs, wrong_labels, real_labels, losses = failing(model, ds)\n",
    "    order = losses.argsort(descending=descending)\n",
    "    return imgs[order], wrong_labels[order], real_labels[order], losses[order]\n",
    "\n",
    "def plot_failing(imgs, wrong_labels, real_labels, n_col=7, figsize=(12, 4)):\n",
    "    fig, ax = plt.subplots(2, n_col, figsize=figsize)\n",
    "    \n",
    "    for i in range(imgs.shape[0]):\n",
    "        idx = (i // n_col, i % n_col)\n",
    "        img = imgs[i].cpu().permute(1, 2, 0)\n",
    "        ax[idx].imshow(img)\n",
    "        ax[idx].set_title(f'p={wrong_labels[i].item()} / {real_labels[i].item()} loss={losses[i].item():.2f}')\n",
    "        ax[idx].set_xticks([])\n",
    "        ax[idx].set_yticks([])\n",
    "    plt.tight_layout()\n",
    "    plt.show()\n",
    "\n",
    "misslabeled_imgs, wrong_labels, real_labels, losses = sorted_failing(model)\n",
    "plot_failing(misslabeled_imgs[:14], wrong_labels[:14], real_labels[:14])"
   ],
   "outputs": [
    {
     "data": {
      "text/plain": [
       "<Figure size 1200x400 with 14 Axes>"
      ],
      "image/png": "[encoded data removed]"
     },
     "metadata": {},
     "output_type": "display_data"
    }
   ],
   "execution_count": 20
  },
  {
   "cell_type": "markdown",
   "metadata": {},
   "source": [
    "### Plot confusion matrix\n",
    "### TODO: We want to know which classes are misclassified the most.\n",
    "### TODO: Provide top-5 cases, that True class A is misclassified as B.  Print A->B"
   ]
  },
  {
   "cell_type": "code",
   "metadata": {
    "ExecuteTime": {
     "end_time": "2024-12-04T01:39:24.533432Z",
     "start_time": "2024-12-04T01:39:22.207874Z"
    }
   },
   "source": [
    "@torch.no_grad()\n",
    "def label_all(model, ds=data_test):\n",
    "    model.eval()\n",
    "    predicted_labels = []\n",
    "    real_labels = []\n",
    "    for x, y in ds:\n",
    "        x, y = x.to(device), y.to(device)\n",
    "        out = model(x).argmax(-1)\n",
    "        predicted_labels.append(out)\n",
    "        real_labels.append(y)\n",
    "    return torch.cat(predicted_labels), torch.cat(real_labels)\n",
    "\n",
    "def to_confusion_matrix(predicted_labels, real_labels):\n",
    "    confusion_matrix = torch.zeros((10, 10), dtype=torch.int32)\n",
    "    for p, r in zip(predicted_labels, real_labels):\n",
    "        confusion_matrix[r, p] += 1\n",
    "    return confusion_matrix\n",
    "\n",
    "def plot_confusion_matrix(confusion_matrix, figsize=(5, 4)):\n",
    "    num_classes = confusion_matrix.shape[0]\n",
    "    plt.figure(figsize=figsize)\n",
    "    plt.imshow(confusion_matrix, interpolation='nearest', cmap='Blues', norm=colors.LogNorm())\n",
    "    for i in range(num_classes):\n",
    "        for j in range(num_classes):\n",
    "            plt.text(j, i, int(confusion_matrix[i, j]),\n",
    "                    ha=\"center\", va=\"center\",\n",
    "                    color=\"white\" if confusion_matrix[i, j] > confusion_matrix.max() / 2. else \"black\")\n",
    "    plt.title('confusion matrix')\n",
    "    plt.xlabel('predicted')\n",
    "    plt.ylabel('real')\n",
    "    plt.xticks(np.arange(num_classes))\n",
    "    plt.yticks(np.arange(num_classes))\n",
    "    plt.show()\n",
    "\n",
    "predicted_labels, real_labels = label_all(model)\n",
    "confusion_matrix = to_confusion_matrix(predicted_labels, real_labels)\n",
    "plot_confusion_matrix(confusion_matrix)"
   ],
   "outputs": [
    {
     "data": {
      "text/plain": [
       "<Figure size 500x400 with 1 Axes>"
      ],
      "image/png": "[encoded data removed]"
     },
     "metadata": {},
     "output_type": "display_data"
    }
   ],
   "execution_count": 21
  },
  {
   "cell_type": "markdown",
   "metadata": {},
   "source": [
    "### Visualize attention\n",
    "### TODO: what do you find the activation map?  \n",
    "### Display one digit as example and explain which token i is mostly associated with token j"
   ]
  },
  {
   "cell_type": "code",
   "metadata": {
    "ExecuteTime": {
     "end_time": "2024-12-04T02:07:32.130441Z",
     "start_time": "2024-12-04T02:07:28.588200Z"
    }
   },
   "source": [
    "from matplotlib.ticker import MaxNLocator\n",
    "    \n",
    "@torch.no_grad()\n",
    "def visualize_attention(model, img):\n",
    "    model.eval()\n",
    "    plot(img)\n",
    "    tiles = einops.rearrange(img, 'c (h t1) (w t2) -> (h w) c t1 t2', t1=TILE_SIZE, t2=TILE_SIZE)\n",
    "    plot(tiles, n_col=4, block_size=0.75)\n",
    "    img = img.to(device).unsqueeze(0)\n",
    "    out, activations = model.forward_visualize(img)\n",
    "    out = out.argmax(-1).item()\n",
    "\n",
    "    plt.gca().axes.xaxis.set_major_locator(MaxNLocator(integer=True))\n",
    "    for block, acts in enumerate(activations):\n",
    "        # 17x17 attention magnitude\n",
    "        print(acts.size())\n",
    "        acts = acts.squeeze()\n",
    "        for head, attn_map in enumerate(acts):\n",
    "            attn_map = attn_map.cpu()\n",
    "            attn_map = attn_map[1:,1:]\n",
    "            plt.figure(figsize=(6,6))\n",
    "            plt.imshow(attn_map, cmap='viridis')\n",
    "                \n",
    "        # acts = acts[1:,1:].cpu()\n",
    "        # plt.imshow(acts)\n",
    "        \n",
    "visualize_attention(model, next(iter(data))[0][0])"
   ],
   "outputs": [
    {
     "data": {
      "text/plain": [
       "<Figure size 300x300 with 1 Axes>"
      ],
      "image/png": "[encoded data removed]"
     },
     "metadata": {},
     "output_type": "display_data"
    },
    {
     "data": {
      "text/plain": [
       "<Figure size 300x300 with 16 Axes>"
      ],
      "image/png": "[encoded data removed]"
     },
     "metadata": {},
     "output_type": "display_data"
    },
    {
     "name": "stdout",
     "output_type": "stream",
     "text": [
      "torch.Size([1, 2, 17, 17])\n",
      "torch.Size([1, 2, 17, 17])\n"
     ]
    },
    {
     "data": {
      "text/plain": [
       "<Figure size 640x480 with 1 Axes>"
      ],
      "image/png": "[encoded data removed]"
     },
     "metadata": {},
     "output_type": "display_data"
    },
    {
     "data": {
      "text/plain": [
       "<Figure size 600x600 with 1 Axes>"
      ],
      "image/png": "[encoded data removed]"
     },
     "metadata": {},
     "output_type": "display_data"
    },
    {
     "data": {
      "text/plain": [
       "<Figure size 600x600 with 1 Axes>"
      ],
      "image/png": "[encoded data removed]"
     },
     "metadata": {},
     "output_type": "display_data"
    },
    {
     "data": {
      "text/plain": [
       "<Figure size 600x600 with 1 Axes>"
      ],
      "image/png": "[encoded data removed]"
     },
     "metadata": {},
     "output_type": "display_data"
    },
    {
     "data": {
      "text/plain": [
       "<Figure size 600x600 with 1 Axes>"
      ],
      "image/png": "[encoded data removed]"
     },
     "metadata": {},
     "output_type": "display_data"
    }
   ],
   "execution_count": 30
  },
  {
   "cell_type": "markdown",
   "metadata": {},
   "source": [
    "### Visualize positional embeddings\n",
    "#### note that emb is (1 + patch_number) * embed_size\n",
    "#### we discard the first [cls], then visualize patch_number*embed_size"
   ]
  },
  {
   "cell_type": "code",
   "metadata": {
    "ExecuteTime": {
     "end_time": "2024-12-04T01:35:00.721992300Z",
     "start_time": "2024-12-03T08:07:09.632734Z"
    }
   },
   "source": [
    "@torch.no_grad()\n",
    "def visualize_positional_embeddings(emb):\n",
    "    print(emb.size())\n",
    "    # strip cls token\n",
    "    emb = emb[1:]\n",
    "    emb = einops.rearrange(emb, 'n (k1 k2) -> n 1 k1 k2', k1=4)\n",
    "    plot(emb, n_col=4, block_size=1)\n",
    "\n",
    "visualize_positional_embeddings(model.positional_embedding)"
   ],
   "outputs": [
    {
     "name": "stdout",
     "output_type": "stream",
     "text": [
      "torch.Size([17, 16])\n"
     ]
    },
    {
     "data": {
      "text/plain": [
       "<Figure size 400x400 with 16 Axes>"
      ],
      "image/png": "[encoded data removed]"
     },
     "metadata": {},
     "output_type": "display_data"
    }
   ],
   "execution_count": 57
  }
 ],
 "metadata": {
  "kernelspec": {
   "display_name": "videollava",
   "language": "python",
   "name": "python3"
  },
  "language_info": {
   "codemirror_mode": {
    "name": "ipython",
    "version": 3
   },
   "file_extension": ".py",
   "mimetype": "text/x-python",
   "name": "python",
   "nbconvert_exporter": "python",
   "pygments_lexer": "ipython3",
   "version": "3.10.14"
  }
 },
 "nbformat": 4,
 "nbformat_minor": 2
}
